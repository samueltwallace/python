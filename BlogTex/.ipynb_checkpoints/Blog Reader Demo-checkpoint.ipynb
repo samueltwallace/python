{
 "cells": [
  {
   "cell_type": "markdown",
   "metadata": {},
   "source": [
    "# Making a Blog Reader in $\\LaTeX$\n",
    "\n",
    "This demo is a proof of concept of an RSS reader that prints its output in LaTeX."
   ]
  },
  {
   "cell_type": "code",
   "execution_count": 1,
   "metadata": {},
   "outputs": [],
   "source": [
    "import feedparser"
   ]
  },
  {
   "cell_type": "code",
   "execution_count": 2,
   "metadata": {},
   "outputs": [],
   "source": [
    "import json"
   ]
  },
  {
   "cell_type": "code",
   "execution_count": 3,
   "metadata": {},
   "outputs": [],
   "source": [
    "from html.parser import HTMLParser"
   ]
  },
  {
   "cell_type": "code",
   "execution_count": 4,
   "metadata": {},
   "outputs": [
    {
     "ename": "ImportError",
     "evalue": "cannot import name 'Token' from 'prompt_toolkit.token' (/home/swallace6859/anaconda3/lib/python3.7/site-packages/prompt_toolkit/token.py)",
     "output_type": "error",
     "traceback": [
      "\u001b[0;31m---------------------------------------------------------------------------\u001b[0m",
      "\u001b[0;31mImportError\u001b[0m                               Traceback (most recent call last)",
      "\u001b[0;32m<ipython-input-4-a45325440fa2>\u001b[0m in \u001b[0;36m<module>\u001b[0;34m\u001b[0m\n\u001b[0;32m----> 1\u001b[0;31m \u001b[0;32mfrom\u001b[0m \u001b[0mPyInquirer\u001b[0m \u001b[0;32mimport\u001b[0m \u001b[0mprompt\u001b[0m\u001b[0;34m\u001b[0m\u001b[0m\n\u001b[0m",
      "\u001b[0;32m~/anaconda3/lib/python3.7/site-packages/PyInquirer/__init__.py\u001b[0m in \u001b[0;36m<module>\u001b[0;34m\u001b[0m\n\u001b[1;32m      4\u001b[0m \u001b[0;32mimport\u001b[0m \u001b[0mos\u001b[0m\u001b[0;34m\u001b[0m\u001b[0m\n\u001b[1;32m      5\u001b[0m \u001b[0;34m\u001b[0m\u001b[0m\n\u001b[0;32m----> 6\u001b[0;31m \u001b[0;32mfrom\u001b[0m \u001b[0mprompt_toolkit\u001b[0m\u001b[0;34m.\u001b[0m\u001b[0mtoken\u001b[0m \u001b[0;32mimport\u001b[0m \u001b[0mToken\u001b[0m\u001b[0;34m\u001b[0m\u001b[0m\n\u001b[0m\u001b[1;32m      7\u001b[0m \u001b[0;32mfrom\u001b[0m \u001b[0mprompt_toolkit\u001b[0m\u001b[0;34m.\u001b[0m\u001b[0mstyles\u001b[0m \u001b[0;32mimport\u001b[0m \u001b[0mstyle_from_dict\u001b[0m\u001b[0;34m\u001b[0m\u001b[0m\n\u001b[1;32m      8\u001b[0m \u001b[0;32mfrom\u001b[0m \u001b[0mprompt_toolkit\u001b[0m\u001b[0;34m.\u001b[0m\u001b[0mvalidation\u001b[0m \u001b[0;32mimport\u001b[0m \u001b[0mValidator\u001b[0m\u001b[0;34m,\u001b[0m \u001b[0mValidationError\u001b[0m\u001b[0;34m\u001b[0m\u001b[0m\n",
      "\u001b[0;31mImportError\u001b[0m: cannot import name 'Token' from 'prompt_toolkit.token' (/home/swallace6859/anaconda3/lib/python3.7/site-packages/prompt_toolkit/token.py)"
     ]
    }
   ],
   "source": [
    "from PyInquirer import prompt"
   ]
  },
  {
   "cell_type": "markdown",
   "metadata": {},
   "source": [
    "First thing to do is to collect a website to read a blog from. We'll make a class that manages blognames."
   ]
  },
  {
   "cell_type": "code",
   "execution_count": null,
   "metadata": {},
   "outputs": [],
   "source": [
    "class feedManager:\n",
    "    def __init__(self):\n",
    "        try:\n",
    "            self.feeds = json.loads(open('files/blogs.json','r',encoding='UTF-8').read())\n",
    "        except:\n",
    "            self.feeds = {}\n",
    "\n",
    "    def addFeed(self, name,link):\n",
    "        \"\"\"TODO: Docstring for addFeed.\n",
    "\n",
    "        :name: TODO\n",
    "        :link: TODO\n",
    "        :returns: TODO\n",
    "\n",
    "        \"\"\"\n",
    "        self.feeds[name]=link\n",
    "\n",
    "    def removeFeed(self, name):\n",
    "        \"\"\"TODO: Docstring for removeFeed.\n",
    "\n",
    "        :name: TODO\n",
    "        :returns: TODO\n",
    "\n",
    "        \"\"\"\n",
    "        del(self.feeds[name])\n",
    "\n",
    "    def returnFeeds(self):\n",
    "        \"\"\"TODO: Docstring for returnFeeds.\n",
    "        :returns: TODO\n",
    "\n",
    "        \"\"\"\n",
    "        return self.feeds\n",
    "\n",
    "    def writeFeeds(self):\n",
    "        \"\"\"TODO: Docstring for writeFeeds.\n",
    "        :returns: TODO\n",
    "\n",
    "        \"\"\"\n",
    "        open('files/blogs.json','w',encoding='UTF-8').write(json.dumps(self.feeds))\n"
   ]
  },
  {
   "cell_type": "markdown",
   "metadata": {},
   "source": [
    "Now we can ask for the blog to input:"
   ]
  },
  {
   "cell_type": "code",
   "execution_count": null,
   "metadata": {},
   "outputs": [],
   "source": [
    "def feedManagerInterface():\n",
    "    f = feedManager()\n",
    "    adding = prompt([{\"type\": 'confirm', 'name':'adding','message':'Would you like to add a blog feed? '}])['adding']\n",
    "    while adding:\n",
    "        newFeed = prompt([{'type':'input','name':'feedName','message':'What is the name of the feed? '},{'type':'input','name':'feedLink','message': 'What\\'s the link to the RSS feed for this blog?'}])\n",
    "        f.addFeed(newFeed['feedName'],newFeed['feedLink'])\n",
    "        adding = prompt([{\"type\": 'confirm', 'name':'adding','message':'Would you like to add another feed? '}])['adding']\n",
    "\n",
    "    removeing = prompt([{\"type\": 'confirm', 'name':'removeing','message':'Would you like to remove a blog feed? '}])['removeing']\n",
    "    while removeing:\n",
    "        newFeed = prompt([{'type':'input','name':'feedName','message':'What is the name of the feed? '}])\n",
    "        f.removeFeed(newFeed['feedName'])\n",
    "        removeing = prompt([{\"type\": 'confirm', 'name':'removeing','message':'Would you like to remove another feed? '}])['removeing']\n",
    "\n",
    "    f.writeFeeds()"
   ]
  },
  {
   "cell_type": "markdown",
   "metadata": {},
   "source": [
    "Now we can write the blogs to .sectex files"
   ]
  },
  {
   "cell_type": "code",
   "execution_count": null,
   "metadata": {},
   "outputs": [],
   "source": [
    "def makeSections():\n",
    "    f = feedManager()\n",
    "    links = f.returnFeeds()\n",
    "    pages = []\n",
    "\n",
    "    for link in links.keys():\n",
    "        pages.append(feedparser.parse(links[link]))\n",
    "\n",
    "\n",
    "    for page in pages:\n",
    "        currentTeX = open(\"files/\" + createShortName(page.feed.link) + \".sectex\", \"w\", encoding=\"utf-8\")\n",
    "        currentTeX.write(WriteTeX(page,''))\n",
    "        currentTeX.close()\n"
   ]
  },
  {
   "cell_type": "markdown",
   "metadata": {},
   "source": [
    "Now we'll make a class to manage all the custom commands we've made..."
   ]
  },
  {
   "cell_type": "code",
   "execution_count": null,
   "metadata": {},
   "outputs": [],
   "source": [
    "class storageUnit:\n",
    "    def __init__(self):\n",
    "        \"\"\"TODO: Docstring for __init__.\n",
    "        :returns: TODO\n",
    "\n",
    "        \"\"\"\n",
    "        try:\n",
    "            self.cmds = json.loads(open('files/cmds.json','r',encoding='UTF-8').read())\n",
    "        except:\n",
    "            self.cmds = {}\n",
    "        try:\n",
    "            self.envs = json.loads(open('files/envs.json','r',encoding='UTF-8').read())\n",
    "        except:\n",
    "            self.envs = {}\n",
    "        self.newCmdsEnvs = TW.collectCmdsEnvs()\n",
    "    def addTeXCmds(self):\n",
    "        newCmds = self.newCmdsEnvs[0]\n",
    "        existingCmdNames = self.cmds.keys()\n",
    "        newCmdNames = newCmds.keys()\n",
    "        for cmd in newCmds:\n",
    "            if cmd not in existingCmdNames:\n",
    "                self.cmds[cmd] = newCmds[cmd]\n",
    "\n",
    "    def addCmdCode(self,cmd,code):\n",
    "        \"\"\"TODO: Docstring for addCmd.\n",
    "\n",
    "        :cmd: TODO\n",
    "        :returns: TODO\n",
    "\n",
    "        \"\"\"\n",
    "        self.cmds[cmd]['code'] = code\n",
    "\n",
    "    def writeCmds(self):\n",
    "        \"\"\"TODO: Docstring for close.\n",
    "\n",
    "        :f: TODO\n",
    "        :returns: TODO\n",
    "\n",
    "        \"\"\"\n",
    "        open('files/cmds.json','w',encoding='UTF-8').write(json.dumps(self.cmds))\n"
   ]
  },
  {
   "cell_type": "markdown",
   "metadata": {},
   "source": [
    "Then we need a CLI to define all these new commands..."
   ]
  },
  {
   "cell_type": "code",
   "execution_count": null,
   "metadata": {},
   "outputs": [],
   "source": [
    "def displayCmdInterface():\n",
    "    s = storageUnit()\n",
    "    s.addTeXCmds()\n",
    "    cmds = s.returnCmds()\n",
    "    questions = [{\n",
    "                \"type\":\"input\",\n",
    "                \"name\":cmd,\n",
    "                \"message\":\"What code do you want for the command \" + cmd + \"? It takes \" + str(cmds[cmd]['nargs']) + \" arguments (leave blank for no action): \"\n",
    "                } for cmd in cmds.keys()\n",
    "            ]\n",
    "    codes = prompt(questions)\n",
    "    for cmd in codes.keys():\n",
    "        if codes[cmd]!='':\n",
    "            s.addCmdCode(cmd,codes[cmd])\n",
    "    envs = s.returnEnvs()\n",
    "    s.addTeXEnvs()\n",
    "    questions = []\n",
    "    for env in envs.keys():\n",
    "        questions.append({'type':'input','name':env + 'BeginCode','message':'What code do you want for the begin code of the environment ' + env + '? '})\n",
    "        questions.append({'type':'input', 'name': env + 'EndCode','message':'What code do you want for the end code of the environment ' + env + '? '})\n",
    "    codes = prompt(questions)\n",
    "    for env in codes.keys():\n",
    "        if codes[env]!='':\n",
    "            s.addEnvCode(env,codes[env]['beginCode'],codes[env]['endCode'])\n",
    "\n",
    "    s.writeCmds()\n",
    "    s.writeEnvs()\n"
   ]
  },
  {
   "cell_type": "markdown",
   "metadata": {},
   "source": [
    "Then we'll make a function to make the package..."
   ]
  },
  {
   "cell_type": "code",
   "execution_count": null,
   "metadata": {},
   "outputs": [],
   "source": [
    "def makePackage():\n",
    "    f = open('files/xml.sty','w',encoding='UTF-8')\n",
    "    f.write('\\\\NeedsTeXFormat{LaTeX2e}\\n\\\\ProvidesPackage{xml}\\n\\n\\\\ProcessOptions\\\\relax')\n",
    "    m = storageUnit()\n",
    "    cmds = m.returnCmds()\n",
    "    envs = m.returnEnvs()\n",
    "    for cmd in cmds.keys():\n",
    "        if cmds[cmd]['code']=='':\n",
    "            cmds[cmds]['code'] = '\\\\ignorespaces'\n",
    "        if cmds[cmd]['nargs'] != 0:\n",
    "            f.write('\\n\\\\newcommand{\\\\'+cmd+'}[' + str(cmds[cmd]['nargs']) + ']{'+ cmds[cmd]['code'] + '}')\n",
    "        else:\n",
    "            f.write('\\n\\\\newcommand{\\\\'+cmd+'}{'+ str(cmds[cmd]['code']) + '}')\n",
    "\n",
    "    for env in envs.keys():\n",
    "        f.write('\\n\\\\newenvironment{'+env+'}' + '{' + envs[env]['beginCode'] + '}' + '{' + envs[env]['endCode'] + '}')\n",
    "\n",
    "    f.close()\n"
   ]
  },
  {
   "cell_type": "markdown",
   "metadata": {},
   "source": [
    "Now we'll add a function to compile the pdf through PDFLaTeX..."
   ]
  },
  {
   "cell_type": "code",
   "execution_count": null,
   "metadata": {},
   "outputs": [],
   "source": [
    "def compile(x):\n",
    "    os.system('pdflatex -interaction nonstopmode -file-line-error main.tex ')\n",
    "    print('PDF Compiled!')"
   ]
  },
  {
   "cell_type": "markdown",
   "metadata": {},
   "source": [
    "And we should be ready to roll! Let's test it out."
   ]
  },
  {
   "cell_type": "code",
   "execution_count": null,
   "metadata": {},
   "outputs": [],
   "source": [
    "feedManagerInterface()"
   ]
  },
  {
   "cell_type": "code",
   "execution_count": 5,
   "metadata": {},
   "outputs": [
    {
     "ename": "NameError",
     "evalue": "name 'makeSections' is not defined",
     "output_type": "error",
     "traceback": [
      "\u001b[0;31m---------------------------------------------------------------------------\u001b[0m",
      "\u001b[0;31mNameError\u001b[0m                                 Traceback (most recent call last)",
      "\u001b[0;32m<ipython-input-5-503bee4b90db>\u001b[0m in \u001b[0;36m<module>\u001b[0;34m\u001b[0m\n\u001b[0;32m----> 1\u001b[0;31m \u001b[0mmakeSections\u001b[0m\u001b[0;34m(\u001b[0m\u001b[0;34m)\u001b[0m\u001b[0;34m\u001b[0m\u001b[0m\n\u001b[0m",
      "\u001b[0;31mNameError\u001b[0m: name 'makeSections' is not defined"
     ]
    }
   ],
   "source": [
    "makeSections()"
   ]
  },
  {
   "cell_type": "code",
   "execution_count": 6,
   "metadata": {},
   "outputs": [
    {
     "ename": "NameError",
     "evalue": "name 'displayCmdInterface' is not defined",
     "output_type": "error",
     "traceback": [
      "\u001b[0;31m---------------------------------------------------------------------------\u001b[0m",
      "\u001b[0;31mNameError\u001b[0m                                 Traceback (most recent call last)",
      "\u001b[0;32m<ipython-input-6-38d14e0da096>\u001b[0m in \u001b[0;36m<module>\u001b[0;34m\u001b[0m\n\u001b[0;32m----> 1\u001b[0;31m \u001b[0mdisplayCmdInterface\u001b[0m\u001b[0;34m(\u001b[0m\u001b[0;34m)\u001b[0m\u001b[0;34m\u001b[0m\u001b[0m\n\u001b[0m",
      "\u001b[0;31mNameError\u001b[0m: name 'displayCmdInterface' is not defined"
     ]
    }
   ],
   "source": [
    "displayCmdInterface()"
   ]
  },
  {
   "cell_type": "code",
   "execution_count": 7,
   "metadata": {},
   "outputs": [
    {
     "ename": "NameError",
     "evalue": "name 'makePackage' is not defined",
     "output_type": "error",
     "traceback": [
      "\u001b[0;31m---------------------------------------------------------------------------\u001b[0m",
      "\u001b[0;31mNameError\u001b[0m                                 Traceback (most recent call last)",
      "\u001b[0;32m<ipython-input-7-ad70f09b3a12>\u001b[0m in \u001b[0;36m<module>\u001b[0;34m\u001b[0m\n\u001b[0;32m----> 1\u001b[0;31m \u001b[0mmakePackage\u001b[0m\u001b[0;34m(\u001b[0m\u001b[0;34m)\u001b[0m\u001b[0;34m\u001b[0m\u001b[0m\n\u001b[0m",
      "\u001b[0;31mNameError\u001b[0m: name 'makePackage' is not defined"
     ]
    }
   ],
   "source": [
    "makePackage()"
   ]
  },
  {
   "cell_type": "code",
   "execution_count": 9,
   "metadata": {},
   "outputs": [
    {
     "ename": "TypeError",
     "evalue": "compile() missing required argument 'filename' (pos 2)",
     "output_type": "error",
     "traceback": [
      "\u001b[0;31m---------------------------------------------------------------------------\u001b[0m",
      "\u001b[0;31mTypeError\u001b[0m                                 Traceback (most recent call last)",
      "\u001b[0;32m<ipython-input-9-6b31016b6ac1>\u001b[0m in \u001b[0;36m<module>\u001b[0;34m\u001b[0m\n\u001b[0;32m----> 1\u001b[0;31m \u001b[0mcompile\u001b[0m\u001b[0;34m(\u001b[0m\u001b[0;36m1\u001b[0m\u001b[0;34m)\u001b[0m\u001b[0;34m\u001b[0m\u001b[0m\n\u001b[0m",
      "\u001b[0;31mTypeError\u001b[0m: compile() missing required argument 'filename' (pos 2)"
     ]
    }
   ],
   "source": [
    "compile(1)"
   ]
  },
  {
   "cell_type": "code",
   "execution_count": null,
   "metadata": {},
   "outputs": [],
   "source": []
  }
 ],
 "metadata": {
  "kernelspec": {
   "display_name": "Python 3",
   "language": "python",
   "name": "python3"
  },
  "language_info": {
   "codemirror_mode": {
    "name": "ipython",
    "version": 3
   },
   "file_extension": ".py",
   "mimetype": "text/x-python",
   "name": "python",
   "nbconvert_exporter": "python",
   "pygments_lexer": "ipython3",
   "version": "3.7.0"
  }
 },
 "nbformat": 4,
 "nbformat_minor": 4
}
